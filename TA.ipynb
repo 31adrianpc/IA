{
  "nbformat": 4,
  "nbformat_minor": 0,
  "metadata": {
    "colab": {
      "provenance": []
    },
    "kernelspec": {
      "name": "python3",
      "display_name": "Python 3"
    },
    "language_info": {
      "name": "python"
    }
  },
  "cells": [
    {
      "cell_type": "code",
      "execution_count": null,
      "metadata": {
        "id": "0FCXavzGzoM8"
      },
      "outputs": [],
      "source": [
        "#Definimos la clase mapa\n",
        "class Mapa:\n",
        "    def __init__(self, neighbors, location):\n",
        "        self.neighbors = neighbors\n",
        "        self.location = location"
      ]
    },
    {
      "cell_type": "code",
      "source": [
        "#Instanciamos los diferentes puntos del mapa\n",
        "\n",
        "neighbors = {\n",
        " 'A': [('Z',75), ('T',118), ('S',140)],\n",
        " 'B': [('F',211), ('P',101), ('G',90), ('U',85)],\n",
        " 'C': [('D',120), ('R',146), ('P',138)],\n",
        " 'D': [('M',75), ('C',120)],\n",
        " 'E': [('H',86)],\n",
        " 'F': [('S',99), ('B',211)],\n",
        " 'G': [('B',90)],\n",
        " 'H': [('U',98), ('E',86)],\n",
        " 'I': [('N',87), ('V',92)],\n",
        " 'L': [('T',111), ('M',70)],\n",
        " 'M': [('L',70), ('D',75)],\n",
        " 'N': [('I',87)],\n",
        " 'O': [('Z',71), ('S',151)],\n",
        " 'P': [('R',97), ('C',138), ('B',101)],\n",
        " 'R': [('S',80), ('C',146), ('P',97)],\n",
        " 'S': [('A',140), ('O',151), ('F',99), ('R',80)],\n",
        " 'T': [('A',118), ('L',111)],\n",
        " 'U': [('B',85), ('V',142), ('H',98)],\n",
        " 'V': [('U',142), ('I',92)],\n",
        " 'Z': [('O',71), ('A',75)]}\n",
        "\n",
        "location = {\n",
        " 'A': (91, 492),\n",
        " 'B': (400, 327),\n",
        " 'C': (253, 288),\n",
        " 'D': (165, 299),\n",
        " 'E': (562, 293),\n",
        " 'F': (305, 449),\n",
        " 'G': (375, 270),\n",
        " 'H': (534, 350),\n",
        " 'I': (473, 506),\n",
        " 'L': (165, 379),\n",
        " 'M': (168, 339),\n",
        " 'N': (406, 537),\n",
        " 'O': (131, 571),\n",
        " 'P': (320, 368),\n",
        " 'R': (233, 410),\n",
        " 'S': (207, 457),\n",
        " 'T': (94, 410),\n",
        " 'U': (456, 350),\n",
        " 'V': (509, 444),\n",
        " 'Z': (108, 531)}\n",
        "\n",
        "terreno = Mapa(neighbors, location)"
      ],
      "metadata": {
        "id": "sJ7sm0_M0b4C"
      },
      "execution_count": null,
      "outputs": []
    },
    {
      "cell_type": "code",
      "source": [
        "#Clase abstracta\n",
        "\n",
        "from abc import ABC, abstractmethod\n",
        "\n",
        "class SearchProblem(ABC):\n",
        "    def __init__(self, initial, goal=None):\n",
        "        \"\"\"Este constructor especifica el estado inicial y posiblemente el estado(s) objetivo(s),\n",
        "        La subclase puede añadir mas argumentos.\"\"\"\n",
        "        self.initial = initial\n",
        "        self.goal = goal\n",
        "\n",
        "    @abstractmethod\n",
        "    def actions(self, state):\n",
        "        \"\"\"Retorna las acciones que pueden ser ejecutadas en el estado dado.\n",
        "        El resultado es tipicamente una lista.\"\"\"\n",
        "        pass\n",
        "\n",
        "    @abstractmethod\n",
        "    def result(self, state, action):\n",
        "        \"\"\"Retorna el estado que resulta de ejecutar la accion dada en el estado state.\n",
        "        La accion debe ser alguna de self.actions(state).\"\"\"\n",
        "        pass\n",
        "\n",
        "    @abstractmethod\n",
        "    def goal_test(self, state):\n",
        "        \"\"\"Retorna True si el estado pasado satisface el objetivo.\"\"\"\n",
        "        pass\n",
        "\n",
        "    @abstractmethod\n",
        "    def path_cost(self, c, state1, action, state2):\n",
        "        \"\"\"Retorna el costo del camino de state2 viniendo de state1 con\n",
        "        la accion action, asumiendo un costo c para llegar hasta state1.\n",
        "        El metodo por defecto cuesta 1 para cada paso en el camino.\"\"\"\n",
        "        pass\n"
      ],
      "metadata": {
        "id": "n72YLNy808vk"
      },
      "execution_count": null,
      "outputs": []
    },
    {
      "cell_type": "code",
      "source": [
        "#Clase hija que implementa todos los métodos abstractos\n",
        "\n",
        "class MapSearchProblem(SearchProblem):\n",
        "    def __init__(self, initial, goal, mapa):\n",
        "        \"\"\"El constructor recibe  el estado inicial, el estado objetivo y un mapa (de clase Mapa)\"\"\"\n",
        "        super().__init__(initial,goal)\n",
        "        self.map = mapa\n",
        "\n",
        "    def actions(self, state):\n",
        "        \"\"\"Retorna las acciones ejecutables desde ciudad state.\n",
        "        El resultado es una lista de strings tipo 'goCity'.\n",
        "        Por ejemplo, en el mapa de Romania, las acciones desde Arad serian:\n",
        "         ['goZ', 'goT', 'goS']\"\"\"\n",
        "        neighbors = []\n",
        "        acciones = []\n",
        "        neighbors = self.map.neighbors[state]\n",
        "        for acc in range(len(neighbors)):\n",
        "            acciones.append('go' + neighbors[acc][0])\n",
        "        return acciones\n",
        "\n",
        "    def result(self, state, action):\n",
        "        \"\"\"Retorna el estado que resulta de ejecutar la accion dada desde ciudad state.\n",
        "        La accion debe ser alguna de self.actions(state)\n",
        "        Por ejemplo, en el mapa de Romania, el resultado de aplicar la accion 'goZerind'\n",
        "        desde el estado 'Arad' seria 'Zerind'\"\"\"\n",
        "        newState = action[2]   #el ultimo caracter de la accion es el nombre de la ciudad destino\n",
        "        return newState\n",
        "\n",
        "    def goal_test(self, state):\n",
        "        \"\"\"Retorna True si state es self.goal\"\"\"\n",
        "        return (self.goal == state)\n",
        "\n",
        "    def path_cost(self, c, state1, action, state2):\n",
        "        \"\"\"Retorna el costo del camino de state2 viniendo de state1 con la accion action\n",
        "        El costo del camino para llegar a state1 es c. El costo de la accion debe ser\n",
        "        extraido de self.map.\"\"\"\n",
        "        actionCost = 0;\n",
        "        destStates = self.map.neighbors[state1] #estado destino, state2\n",
        "        for acc in range(len(destStates)):\n",
        "            if (destStates[acc][0] == state2):\n",
        "                actionCost = destStates[acc][1]\n",
        "                break\n",
        "        return c + actionCost;"
      ],
      "metadata": {
        "id": "7xeTYFE521ZJ"
      },
      "execution_count": null,
      "outputs": []
    },
    {
      "cell_type": "code",
      "source": [
        "#Clase para representar un nodo en el árbol de búsqueda\n",
        "\n",
        "class Node:\n",
        "    def __init__(self, state, parent=None, action=None, path_cost=0):\n",
        "        \"Crea un nodo de arbol de busqueda, derivado del nodo parent y accion action\"\n",
        "        self.state = state\n",
        "        self.parent = parent\n",
        "        self.action = action\n",
        "        self.path_cost = path_cost\n",
        "        self.depth = 0\n",
        "        if parent:\n",
        "            self.depth = parent.depth + 1\n",
        "\n",
        "    def expand(self, problem):\n",
        "        \"Devuelve los nodos alcanzables en un paso a partir de este nodo.\"\n",
        "        return [self.child_node(problem, action)\n",
        "                for action in problem.actions(self.state)]\n",
        "\n",
        "    def child_node(self, problem, action):\n",
        "        next = problem.result(self.state, action)\n",
        "        return Node(next, self, action,\n",
        "                    problem.path_cost(self.path_cost, self.state, action, next))\n",
        "\n",
        "    def solution(self):\n",
        "        \"Retorna la secuencia de acciones para ir de la raiz a este nodo.\"\n",
        "        return [node.action for node in self.path()[1:]]\n",
        "\n",
        "    def path(self):\n",
        "        \"Retorna una lista de nodos formando un camino de la raiz a este nodo.\"\n",
        "        node, path_back = self, []\n",
        "        while node:\n",
        "            path_back.append(node)\n",
        "            node = node.parent\n",
        "        return list(reversed(path_back))\n",
        "\n",
        "    def __eq__(self, other):\n",
        "        \"Este metodo se ejecuta cuando se compara nodos. Devuelve True cuando los estados son iguales\"\n",
        "        \"(representan el mismo estado)\"\n",
        "        return isinstance(other, Node) and self.state == other.state"
      ],
      "metadata": {
        "id": "oizGLw3P4H_B"
      },
      "execution_count": null,
      "outputs": []
    },
    {
      "cell_type": "code",
      "source": [
        "#Clase para implementar la frontera, esta es ordenada por una funcion de costo\n",
        "\n",
        "import heapq\n",
        "class FrontierPQ:\n",
        "    \"Una Frontera ordenada por una funcion de costo (Priority Queue)\"\n",
        "\n",
        "    def __init__(self, initial, costfn=lambda node: node.path_cost):\n",
        "        \"Inicializa la Frontera con un nodo inicial y una funcion de costo especificada\"\n",
        "        \"(por defecto es el costo de camino).\"\n",
        "        self.heap   = []\n",
        "        self.states = {}\n",
        "        self.costfn = costfn\n",
        "        self.add(initial)\n",
        "\n",
        "    def add(self, node):\n",
        "        \"Agrega un nodo a la frontera.\"\n",
        "        cost = self.costfn(node)\n",
        "        heapq.heappush(self.heap, (cost, node))\n",
        "        self.states[node.state] = node\n",
        "\n",
        "    def pop(self):\n",
        "        \"Remueve y retorna el nodo con minimo costo.\"\n",
        "        (cost, node) = heapq.heappop(self.heap)\n",
        "        self.states.pop(node.state, None) # remove state\n",
        "        return node\n",
        "\n",
        "    def replace(self, node):\n",
        "        \"node reemplaza al nodo de la Fontera que tiene el mismo estado que node.\"\n",
        "        if node.state not in self:\n",
        "            raise ValueError('{} no tiene nada que reemplazar'.format(node.state))\n",
        "        for (i, (cost, old_node)) in enumerate(self.heap):\n",
        "            if old_node.state == node.state:\n",
        "                self.heap[i] = (self.costfn(node), node)\n",
        "                heapq._siftdown(self.heap, 0, i)\n",
        "                return\n",
        "\n",
        "    def __contains__(self, state): return state in self.states\n",
        "\n",
        "    def __len__(self): return len(self.heap)"
      ],
      "metadata": {
        "id": "JyC5ID_M-s7-"
      },
      "execution_count": null,
      "outputs": []
    },
    {
      "cell_type": "code",
      "source": [
        "#Definimos el algoritmo general de búsqueda\n",
        "\n",
        "def best_first_graph_search(problem, f):\n",
        "    \"\"\"Busca el objetivo expandiendo el nodo de la frontera con el menor valor de la funcion f. Memoriza estados visitados\n",
        "    Antes de llamar a este algoritmo hay que especificar La funcion f(node). Si f es node.depth tenemos Busqueda en Amplitud;\n",
        "    si f es node.path_cost tenemos Busqueda  de Costo Uniforme. Si f es una heurística tenemos Busqueda Voraz;\n",
        "    Si f es node.path_cost + heuristica(node) tenemos A* \"\"\"\n",
        "\n",
        "    frontier = FrontierPQ( Node(problem.initial), f )  # frontera tipo cola de prioridad ordenada por f\n",
        "    explored = set()     # memoria de estados visitados - set sin parametros devuelve un conjunto vacío, donde los elementos no se pueden repetir\n",
        "    expanded_nodes = 0   # contador de nodos expandidos\n",
        "    while frontier:\n",
        "        node = frontier.pop()\n",
        "        if problem.goal_test(node.state):\n",
        "            return node, expanded_nodes\n",
        "        explored.add(node.state)\n",
        "        expanded_nodes = expanded_nodes + 1\n",
        "        for action in problem.actions(node.state):\n",
        "            child = node.child_node(problem, action)\n",
        "            if child.state not in explored and child.state not in frontier:\n",
        "                frontier.add(child)\n",
        "            elif child.state in frontier:\n",
        "                incumbent = frontier.states[child.state]\n",
        "                if f(child) < f(incumbent):\n",
        "                    frontier.replace(child)"
      ],
      "metadata": {
        "id": "uTfYWU7A_Xz9"
      },
      "execution_count": null,
      "outputs": []
    },
    {
      "cell_type": "code",
      "source": [
        "#Definimos el algoritmo de búsqueda A* que llama al método general con una función de costo determinada por el costo del camino al nodo actual más una heurística\n",
        "def astar_search(problem, heuristic):\n",
        "    f = lambda node: node.path_cost + heuristic(node, problem)\n",
        "    return best_first_graph_search(problem, f)"
      ],
      "metadata": {
        "id": "8RbQkA_l_hse"
      },
      "execution_count": null,
      "outputs": []
    },
    {
      "cell_type": "code",
      "source": [
        "import math\n",
        "\n",
        "def nullheuristic(node, problem):  # heurística nula (A* se convierte en busqueda de costo uniforme)\n",
        "    return 0\n",
        "\n",
        "def h1(node, problem):\n",
        "    \"Distancia en linea recta desde la posicion de node hasta la posicion del Objetivo (problem.goal)\"\n",
        "    loc_node = problem.map.location[node.state]\n",
        "    loc_goal = problem.map.location[problem.goal]\n",
        "    return math.sqrt( math.pow(loc_goal[0] - loc_node[0], 2) + math.pow(loc_goal[1] - loc_node[1], 2) )"
      ],
      "metadata": {
        "id": "QkJfxbxr_5PN"
      },
      "execution_count": null,
      "outputs": []
    },
    {
      "cell_type": "code",
      "source": [
        "p = MapSearchProblem('A', 'B', terreno)   # problema de busqueda de ruta de Arad a Bucharest\n",
        "\n",
        "node, num_exp_nodes = astar_search(p, nullheuristic)\n",
        "print( 'Solucion obtenida con A* y heuristica nula (UCS): {}. Nodos expandidos = {}'.format(node.solution(), num_exp_nodes) )\n",
        "\n",
        "node, num_exp_nodes = astar_search(p, h1)\n",
        "print( 'Solucion obtenida con A* y heuristica h1: {}. Nodos expandidos = {}'.format(node.solution(), num_exp_nodes) )"
      ],
      "metadata": {
        "colab": {
          "base_uri": "https://localhost:8080/"
        },
        "id": "mxsfMajmAPcR",
        "outputId": "21da0816-c70c-4cd9-aa4a-1e19f230f516"
      },
      "execution_count": null,
      "outputs": [
        {
          "output_type": "stream",
          "name": "stdout",
          "text": [
            "Solucion obtenida con A* y heuristica nula (UCS): ['goS', 'goR', 'goP', 'goB']. Nodos expandidos = 12\n",
            "Solucion obtenida con A* y heuristica h1: ['goS', 'goR', 'goP', 'goB']. Nodos expandidos = 5\n"
          ]
        }
      ]
    },
    {
      "cell_type": "code",
      "source": [
        "import networkx as nx\n",
        "import matplotlib.pyplot as plt\n",
        "import time\n",
        "from IPython.display import clear_output\n",
        "\n",
        "# Crear el grafo vacío\n",
        "G = nx.Graph()\n",
        "\n",
        "# Añadir los nodos y las aristas al grafo\n",
        "for node1, neighbors_list in neighbors.items():\n",
        "    for neighbor, _ in neighbors_list:\n",
        "        G.add_edge(node1, neighbor)\n",
        "\n",
        "# Crear un diccionario de posiciones para los nodos usando las coordenadas de `location`\n",
        "pos = location"
      ],
      "metadata": {
        "id": "1mljybhXKAr7"
      },
      "execution_count": null,
      "outputs": []
    },
    {
      "cell_type": "code",
      "source": [
        "# Función para pintar el grafo con nodos resaltados\n",
        "def draw_graph_with_highlighted_node(G, pos, highlighted_node=None, colores=None, etiquetas=None, lista=None):\n",
        "    clear_output(wait=True)  # Limpiar la salida de la celda\n",
        "    plt.figure(figsize=(9, 7))\n",
        "\n",
        "    # Dibujar el grafo\n",
        "    nx.draw(G, pos, with_labels=True, node_size=1500, node_color='lightblue', font_size=10, font_weight='bold', edge_color='gray')\n",
        "\n",
        "    # Si hay un nodo a resaltar, cambiar su color\n",
        "    #if highlighted_node:\n",
        "     #   nx.draw_networkx_nodes(G, pos, nodelist=highlighted_node, node_size=2000, node_color='red')\n",
        "\n",
        "    for i, node in enumerate(highlighted_node):\n",
        "        if(node):\n",
        "          nx.draw_networkx_nodes(G, pos, nodelist=node, node_size=2000, node_color=colores[i])\n",
        "\n",
        "    if etiquetas and colores:\n",
        "        for color, etiqueta in zip(colores, etiquetas):\n",
        "            plt.scatter([], [], color=color, label=etiqueta, s=200)  # Elemento invisible para la leyenda\n",
        "        plt.legend(title=\"Equipos\", loc=\"upper left\", fontsize=9)\n",
        "\n",
        "\n",
        "\n",
        "    # Mostrar el grafo\n",
        "    plt.title(\"Grafo con Nodo Resaltado\")\n",
        "    plt.show()"
      ],
      "metadata": {
        "id": "tpGhL5rzONm4"
      },
      "execution_count": null,
      "outputs": []
    },
    {
      "cell_type": "code",
      "source": [
        "def generaPath(solution):\n",
        "  path = []\n",
        "  for action in solution:\n",
        "    path.append(action[2])\n",
        "  return path"
      ],
      "metadata": {
        "id": "3eUlHhuFezr7"
      },
      "execution_count": null,
      "outputs": []
    },
    {
      "cell_type": "code",
      "source": [
        "def generaSolution(inicio,fin):\n",
        "  p = MapSearchProblem(inicio, fin, terreno)\n",
        "  node, _ = astar_search(p, h1)\n",
        "  return node.solution()"
      ],
      "metadata": {
        "id": "vbvIXORjf5PV"
      },
      "execution_count": null,
      "outputs": []
    },
    {
      "cell_type": "code",
      "source": [
        "def extract_vips(terreno, helipads, teams, vips):\n",
        "    \"\"\"\n",
        "    Algoritmo principal para extraer VIPs desde el terreno.\n",
        "    \"\"\"\n",
        "    vip_extracted = set()\n",
        "    vip_paths = []\n",
        "\n",
        "    while len(vip_extracted) < len(vips):\n",
        "        for i, team in enumerate(teams):\n",
        "            # Encontrar el VIP más cercano al equipo\n",
        "            nearest_vip = None\n",
        "            shortest_path = None #nodo objetivo\n",
        "            for vip in vips:\n",
        "                if vip in vip_extracted:\n",
        "                    continue\n",
        "\n",
        "                node_vip, num_exp_nodes_vip = astar_search(MapSearchProblem(team, vip, terreno), h1)\n",
        "                if node and (shortest_path is None or node.path_cost < shortest_path.path_cost):\n",
        "                    nearest_vip = vip\n",
        "                    shortest_path = node_vip\n",
        "\n",
        "\n",
        "            # Si encontramos un VIP, escoltarlo al helipuerto más cercano\n",
        "            if nearest_vip:\n",
        "                team_path = shortest_path\n",
        "                nearest_helipad = None\n",
        "                shortest_helipad_path = None #nodo objetivo\n",
        "\n",
        "                for helipad in helipads:\n",
        "                    node_helipad, num_exp_nodes_helipad = astar_search(MapSearchProblem(nearest_vip, helipad, terreno), h1)\n",
        "                    if node_helipad and (shortest_helipad_path is None or node_helipad.path_cost < shortest_helipad_path.path_cost):\n",
        "                        nearest_helipad = helipad\n",
        "                        shortest_helipad_path = node_helipad\n",
        "\n",
        "                # Actualizar la posición del equipo y registrar el VIP como extraído\n",
        "                if shortest_helipad_path:\n",
        "                    vip_paths.append(generaPath(team_path.solution()+shortest_helipad_path.solution()))\n",
        "                    vip_extracted.add(nearest_vip)\n",
        "                    teams[i] = nearest_helipad\n",
        "\n",
        "    return vip_paths"
      ],
      "metadata": {
        "id": "F-10h-groQg2"
      },
      "execution_count": null,
      "outputs": []
    },
    {
      "cell_type": "code",
      "source": [
        "from itertools import zip_longest\n",
        "colores = ['red','green','yellow']\n",
        "etiquetas = ['Equipo1', 'Equipo2','Equipo3'] #escribir trayectoria de los equipos\n",
        "helipads = ['O','E','N'] #helipuertos\n",
        "teams = ['O','E','N'] #equipos\n",
        "vips = ['T','D','G'] #vips\n",
        "\n",
        "listas = extract_vips(terreno,helipads,teams.copy(),vips)\n",
        "for i, lista in enumerate(listas):\n",
        "  lista.insert(0,teams[i])\n",
        "\n",
        "for equipo, lista in enumerate(listas):\n",
        "  print(\"Equipo \" + str(equipo) + \": \" + str(lista))"
      ],
      "metadata": {
        "colab": {
          "base_uri": "https://localhost:8080/"
        },
        "id": "glXATQ3gON_R",
        "outputId": "43ca84b4-53ca-42bb-eb9b-eb4beaecb6a5"
      },
      "execution_count": null,
      "outputs": [
        {
          "output_type": "stream",
          "name": "stdout",
          "text": [
            "Equipo 0: ['O', 'Z', 'A', 'T', 'A', 'Z', 'O']\n",
            "Equipo 1: ['E', 'H', 'U', 'B', 'G', 'B', 'U', 'H', 'E']\n",
            "Equipo 2: ['N', 'I', 'V', 'U', 'B', 'P', 'C', 'D', 'C', 'R', 'S', 'O']\n"
          ]
        }
      ]
    },
    {
      "cell_type": "code",
      "source": [
        "# Encontrar la longitud máxima\n",
        "longitud_maxima = max(len(lista) for lista in listas)\n",
        "\n",
        "# Extender cada lista al tamaño máximo, completando con su último elemento\n",
        "listas_alineadas = [\n",
        "    lista + [lista[-1]] * (longitud_maxima - len(lista)) if lista else []\n",
        "    for lista in listas\n",
        "]\n",
        "\n",
        "for _, pasos in enumerate(zip_longest(*listas_alineadas, fillvalue=None)):\n",
        "  draw_graph_with_highlighted_node(G, pos, highlighted_node=pasos, colores=colores, etiquetas=etiquetas)\n",
        "  time.sleep(0.35)  # Esperar un segundo antes de mostrar el siguiente nodo"
      ],
      "metadata": {
        "colab": {
          "base_uri": "https://localhost:8080/",
          "height": 759
        },
        "id": "Et0cc37LEfxq",
        "outputId": "4fe7b7ac-63e6-4477-9c38-2ed7dbdeccbf"
      },
      "execution_count": null,
      "outputs": [
        {
          "output_type": "display_data",
          "data": {
            "text/plain": [
              "<Figure size 900x700 with 1 Axes>"
            ],
            "image/png": "[encoded data removed]"
          },
          "metadata": {}
        }
      ]
    }
  ]
}